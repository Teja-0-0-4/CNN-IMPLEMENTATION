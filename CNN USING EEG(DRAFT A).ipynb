{
 "cells": [
  {
   "cell_type": "code",
   "execution_count": 2,
   "id": "727542c7",
   "metadata": {},
   "outputs": [
    {
     "name": "stdout",
     "output_type": "stream",
     "text": [
      "Extracting EDF parameters from C:\\Users\\kukat\\Downloads\\archive (4)\\files\\S001\\S001R13.edf...\n",
      "EDF file detected\n",
      "Setting channel info structure...\n",
      "Creating raw.info structure...\n",
      "Reading 0 ... 19999  =      0.000 ...   124.994 secs...\n",
      "Filtering raw data in 1 contiguous segment\n",
      "Setting up band-pass filter from 7 - 30 Hz\n",
      "\n",
      "FIR filter parameters\n",
      "---------------------\n",
      "Designing a one-pass, zero-phase, non-causal bandpass filter:\n",
      "- Windowed time-domain design (firwin) method\n",
      "- Hamming window with 0.0194 passband ripple and 53 dB stopband attenuation\n",
      "- Lower passband edge: 7.00\n",
      "- Lower transition bandwidth: 2.00 Hz (-6 dB cutoff frequency: 6.00 Hz)\n",
      "- Upper passband edge: 30.00 Hz\n",
      "- Upper transition bandwidth: 7.50 Hz (-6 dB cutoff frequency: 33.75 Hz)\n",
      "- Filter length: 265 samples (1.656 s)\n",
      "\n",
      "Used Annotations descriptions: ['T0', 'T1', 'T2']\n",
      "Not setting metadata\n",
      "30 matching events found\n",
      "No baseline correction applied\n",
      "0 projection items activated\n",
      "Using data from preloaded Raw for 30 events and 641 original time points ...\n",
      "0 bad epochs dropped\n"
     ]
    },
    {
     "name": "stderr",
     "output_type": "stream",
     "text": [
      "[Parallel(n_jobs=1)]: Using backend SequentialBackend with 1 concurrent workers.\n",
      "[Parallel(n_jobs=1)]: Done   1 out of   1 | elapsed:    0.0s remaining:    0.0s\n",
      "[Parallel(n_jobs=1)]: Done   2 out of   2 | elapsed:    0.0s remaining:    0.0s\n",
      "[Parallel(n_jobs=1)]: Done   3 out of   3 | elapsed:    0.0s remaining:    0.0s\n",
      "[Parallel(n_jobs=1)]: Done   4 out of   4 | elapsed:    0.0s remaining:    0.0s\n",
      "[Parallel(n_jobs=1)]: Done  64 out of  64 | elapsed:    0.0s finished\n"
     ]
    },
    {
     "name": "stdout",
     "output_type": "stream",
     "text": [
      "Epoch 1/10\n",
      "1/1 [==============================] - 2s 2s/step - loss: 0.6932 - accuracy: 0.2500\n",
      "Epoch 2/10\n",
      "1/1 [==============================] - 0s 47ms/step - loss: 0.6804 - accuracy: 0.5833\n",
      "Epoch 3/10\n",
      "1/1 [==============================] - 0s 63ms/step - loss: 0.6661 - accuracy: 0.5833\n",
      "Epoch 4/10\n",
      "1/1 [==============================] - 0s 47ms/step - loss: 0.6497 - accuracy: 0.5833\n",
      "Epoch 5/10\n",
      "1/1 [==============================] - 0s 63ms/step - loss: 0.6307 - accuracy: 0.5833\n",
      "Epoch 6/10\n",
      "1/1 [==============================] - 0s 47ms/step - loss: 0.6081 - accuracy: 0.5833\n",
      "Epoch 7/10\n",
      "1/1 [==============================] - 0s 47ms/step - loss: 0.5809 - accuracy: 0.5833\n",
      "Epoch 8/10\n",
      "1/1 [==============================] - 0s 47ms/step - loss: 0.5473 - accuracy: 0.5833\n",
      "Epoch 9/10\n",
      "1/1 [==============================] - 0s 63ms/step - loss: 0.5046 - accuracy: 0.5833\n",
      "Epoch 10/10\n",
      "1/1 [==============================] - 0s 47ms/step - loss: 0.4484 - accuracy: 0.5833\n",
      "1/1 [==============================] - 0s 377ms/step - loss: 0.2294 - accuracy: 0.1667\n",
      "Test Loss: 0.22935335338115692\n",
      "Test Accuracy: 0.1666666716337204\n"
     ]
    }
   ],
   "source": [
    "import mne\n",
    "import numpy as np\n",
    "from sklearn.model_selection import train_test_split\n",
    "file_path = r'C:\\Users\\kukat\\Downloads\\archive (4)\\files\\S001\\S001R13.edf'\n",
    "raw = mne.io.read_raw_edf(file_path, preload=True)\n",
    "raw.filter(7, 30, fir_design='firwin')\n",
    "events, _ = mne.events_from_annotations(raw)\n",
    "epochs = mne.Epochs(raw, events, event_id=None, tmin=0, tmax=4, baseline=None, detrend=1)\n",
    "X = epochs.get_data() \n",
    "y = epochs.events[:, -1]\n",
    "X_train, X_test, y_train, y_test = train_test_split(X, y, test_size=0.2, random_state=42)\n",
    "from tensorflow.keras.models import Sequential\n",
    "from tensorflow.keras.layers import LSTM, Dense\n",
    "\n",
    "num_time_steps, num_channels = X_train.shape[1], X_train.shape[2]\n",
    "\n",
    "model = Sequential([\n",
    "    LSTM(64, input_shape=(num_time_steps, num_channels)),\n",
    "    Dense(1, activation='sigmoid')\n",
    "])\n",
    "model.compile(loss='binary_crossentropy', optimizer='adam', metrics=['accuracy'])\n",
    "epochs = 10  \n",
    "batch_size = 32  \n",
    "model.fit(X_train, y_train, epochs=epochs, batch_size=batch_size)\n",
    "loss, accuracy = model.evaluate(X_test, y_test)\n",
    "print(\"Test Loss:\", loss)\n",
    "print(\"Test Accuracy:\", accuracy)"
   ]
  },
  {
   "cell_type": "code",
   "execution_count": null,
   "id": "cf69ca4f",
   "metadata": {},
   "outputs": [],
   "source": []
  }
 ],
 "metadata": {
  "kernelspec": {
   "display_name": "Python 3 (ipykernel)",
   "language": "python",
   "name": "python3"
  },
  "language_info": {
   "codemirror_mode": {
    "name": "ipython",
    "version": 3
   },
   "file_extension": ".py",
   "mimetype": "text/x-python",
   "name": "python",
   "nbconvert_exporter": "python",
   "pygments_lexer": "ipython3",
   "version": "3.9.12"
  }
 },
 "nbformat": 4,
 "nbformat_minor": 5
}
